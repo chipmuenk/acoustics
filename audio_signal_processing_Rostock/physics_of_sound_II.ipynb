{
 "cells": [
  {
   "cell_type": "markdown",
   "metadata": {},
   "source": [
    "# The Physics of Sound, Part II\n",
    "\n",
    "[return to main page](index.ipynb)\n",
    "\n",
    "## Preparations\n",
    "\n",
    "For this exercise we need the [Sound Field Synthesis Toolbox](http://sfstoolbox.org);"
   ]
  },
  {
   "cell_type": "code",
   "execution_count": null,
   "metadata": {
    "collapsed": true
   },
   "outputs": [],
   "source": [
    "import sfs"
   ]
  },
  {
   "cell_type": "markdown",
   "metadata": {},
   "source": [
    "And some other stuff:"
   ]
  },
  {
   "cell_type": "code",
   "execution_count": null,
   "metadata": {
    "collapsed": false
   },
   "outputs": [],
   "source": [
    "# remove \"inline\" to get a separate plotting window:\n",
    "%matplotlib inline  \n",
    "import matplotlib.pyplot as plt\n",
    "import numpy as np\n",
    "from numpy.core.umath_tests import inner1d"
   ]
  },
  {
   "cell_type": "markdown",
   "metadata": {},
   "source": [
    "A grid for computation and plotting:"
   ]
  },
  {
   "cell_type": "code",
   "execution_count": null,
   "metadata": {
    "collapsed": true
   },
   "outputs": [],
   "source": [
    "grid = sfs.util.xyz_grid([-2, 2], [-2, 2], 0, spacing=0.01)"
   ]
  },
  {
   "cell_type": "markdown",
   "metadata": {},
   "source": [
    "## Boundary Conditions\n",
    "\n",
    "So far, we have only condisered so-called free-field propagation where no boundary conditions apply. However, free-field propagation is an invalid assumption in most pratical applications as walls and obstacles are present. These objects imply boundary conditions to the sound pressure and/or to the particle velocity. Hence, the complete solution of the wave equation has to obey these conditions.  \n",
    "\n",
    "<img src=\"data/volume.png\" width=\"300\"/>\n",
    "\n",
    "Lets assume the scenario above with a bounded volume $V$ and its boundary $\\partial V$ with the boundary normal $\\mathbf n$.  \n",
    "We classify three types of boundary conditions:\n",
    "\n",
    "1. Dirichlet: $P (\\mathbf x_0, \\omega) = F_D(\\mathbf  x_0, \\omega)$,\n",
    "2. Neumann: $\\frac{\\partial}{\\partial \\mathbf n} P (\\mathbf x_0, \\omega) = F_N(\\mathbf x_0, \\omega)$,\n",
    "3. Robin: $\\frac{\\partial}{\\partial \\mathbf n} P (x_0, ω) + j\\sigma(\\mathbf x_0, \\omega)P(\\mathbf x_0, \\omega) = F_R (\\mathbf x_0, \\omega)$\n",
    "\n",
    "with $\\mathbf x_0 \\in \\partial V$. As special case, the homogeneous boundary conditions are defined by\n",
    "\n",
    "1. Dirichlet: $F_D(\\mathbf  x_0, \\omega) = 0$ aka. sound soft\n",
    "2. Neumann:  $F_N(\\mathbf  x_0, \\omega) = 0$ aka. sound hard/rigid\n",
    "3. Robin:  $F_R(\\mathbf  x_0, \\omega) = 0$ aka. mixed"
   ]
  },
  {
   "cell_type": "markdown",
   "metadata": {},
   "source": [
    "*Exercise*: As a little repetition, what is denoted by $P(\\mathbf x, \\omega)$, again?"
   ]
  },
  {
   "cell_type": "markdown",
   "metadata": {},
   "source": []
  },
  {
   "cell_type": "markdown",
   "metadata": {},
   "source": [
    "*Exercise*: What does the notation $\\frac{\\partial}{\\partial \\mathbf n} P (\\mathbf x_0, \\omega)$ mean?"
   ]
  },
  {
   "cell_type": "markdown",
   "metadata": {},
   "source": []
  },
  {
   "cell_type": "markdown",
   "metadata": {},
   "source": [
    "## The Complete Solution of the Wave Equation\n",
    "\n",
    "In the [last exercise](physics_of_sound_I.ipynb), we got to know the inhomogeneous Helmholtz equation\n",
    "\n",
    "$$\\Delta P(\\mathbf x, \\omega) + \\left(\\frac{\\omega}{c}\\right)^2 P(\\mathbf x, \\omega) = -Q(\\mathbf x, \\omega)$$\n",
    "\n",
    "as the temporal Fourier transform of the inhomogeneous wave equation.\n",
    "\n",
    "*Exercise*: As a little repetition, what is denoted by $Q(\\mathbf x, \\omega)$, again?"
   ]
  },
  {
   "cell_type": "markdown",
   "metadata": {},
   "source": []
  },
  {
   "cell_type": "markdown",
   "metadata": {},
   "source": [
    "<img src=\"data/general.png\" width=\"300\"/>\n",
    "\n",
    "The solution of inhomogeneous Helmholtz equation for a bounded region splits up into two parts\n",
    "\n",
    "1. Contribution by the inhomogenity $Q(\\mathbf x, \\omega)$ inside $V$\n",
    "2. Contribution by the inhomogeneous boundary conditions imposed on $\\partial V$\n",
    "\n",
    "Before going into detail with these two contributions, we need to introduce a important tool called the Green's function.\n",
    "\n",
    "### The Green's Function\n",
    "\n",
    "We got to know solutions of the inhomogeneous Helmholtz equation for specific $Q(\\mathbf x, \\omega)$, like e.g. the plane wave, the point source, or the line source. The Green’s function $G(\\mathbf x|\\mathbf x_0 , \\omega)$ is a versatile tool to express the solution of inhomogeneous Helmholtz Equation for any given density $Q(\\mathbf x, \\omega)$. It is the solution of the inhomogeneous Helmholtz Equation for a spatio(-temporal) Dirac pulse at $\\mathbf x_0$ as inhomogeneity fulfilling potential initial and boundary conditions. Its density spectrum is hence defined \n",
    "\n",
    "$$Q_{G}(\\mathbf x | \\mathbf x_0, \\omega) = \\delta(\\mathbf x - \\mathbf x_0) = \\delta(x-x_0)\\delta(y-y_0)\\delta(z-z_0)$$ \n",
    "\n",
    "for the 3D case. The Green's Function fulfils the inhomogeneous Helmholtz Equation\n",
    "\n",
    "$$\\Delta G(\\mathbf x|\\mathbf x_0 , \\omega) + \\left(\\frac{\\omega}{c}\\right)^2 G(\\mathbf x|\\mathbf x_0 , \\omega) = - \\delta(\\mathbf x - \\mathbf x_0)\\,.$$\n",
    "\n",
    "#### Reciprocity Principle\n",
    "\n",
    "In acoustics, generally the reciprocity principle holds which also includes the Green's function.\n",
    "\n",
    "*Exercise*: What does the reciprocity principle tell us?"
   ]
  },
  {
   "cell_type": "markdown",
   "metadata": {},
   "source": []
  },
  {
   "cell_type": "markdown",
   "metadata": {},
   "source": [
    "#### Translation Invariance\n",
    "\n",
    "Under free field propogation (no boundaries) the Green's Function $G(\\mathbf x|\\mathbf x_0 , \\omega)$ is also called the free-field Green's function $G_0(\\mathbf x|\\mathbf x_0 , \\omega)$. Here, the translation invariance $G_0(\\mathbf x|\\mathbf x_0 , \\omega) = G_0(\\mathbf x - \\mathbf x_0 , \\omega)$  holds. For three- or two-dimensional scenarios the free-field Green's function is a [point source](physics_of_sound_I-solutions.ipynb#Point-Source) or [line source](physics_of_sound_I-solutions.ipynb#Line-Source), respectively.\n",
    "\n",
    "*Exercise: What is the physical meaning of the translation invariance?*"
   ]
  },
  {
   "cell_type": "markdown",
   "metadata": {},
   "source": []
  },
  {
   "cell_type": "markdown",
   "metadata": {},
   "source": [
    "*Exercise: Why does an ordinary room, e.g. a seminar room, not fulfil the translation invariance*?"
   ]
  },
  {
   "cell_type": "markdown",
   "metadata": {},
   "source": []
  },
  {
   "cell_type": "markdown",
   "metadata": {},
   "source": [
    "### Contribution by the inhomegenity $Q(\\mathbf x, \\omega)$ inside $V$\n",
    "\n",
    "We will now see how to use the Green's Function to express the solution of the inhomogeneous Helmholtz equation for an arbitrary  inhomegenity $Q(\\mathbf x, \\omega)$.\n",
    "\n",
    "*Exercise: Calculate the following Integral using the properties of the Dirac impulse.*\n",
    "\n",
    "$$\\int_{V} Q(\\mathbf x_0, \\omega) \\delta(\\mathbf x - \\mathbf x_0) \n",
    "\\,\\mathrm d V(\\mathbf x_0) \\text{ with } \\mathbf x \\in V\n",
    "$$"
   ]
  },
  {
   "cell_type": "markdown",
   "metadata": {},
   "source": []
  },
  {
   "cell_type": "markdown",
   "metadata": {},
   "source": [
    "Now we know, how the density $Q(\\mathbf x, \\omega)$ of the sound field $P(\\mathbf x, \\omega)$ and the density $\\delta(\\mathbf x - \\mathbf x_0)$ of the Green's function $G(\\mathbf x|\\mathbf x_0 , \\omega)$ are related."
   ]
  },
  {
   "cell_type": "markdown",
   "metadata": {},
   "source": [
    "*Exercise: Keeping the linearity of the Helmholtz Equation in mind, how are $P(\\mathbf x, \\omega)$ and $G(\\mathbf x|\\mathbf x_0 , \\omega)$ related? What is the physical meaning of this result?* "
   ]
  },
  {
   "cell_type": "markdown",
   "metadata": {},
   "source": []
  },
  {
   "cell_type": "markdown",
   "metadata": {},
   "source": [
    "### Contribution by the inhomogeneous boundary conditions imposed on $\\partial V$\n",
    "\n",
    "We have now handled any inhomegenity being present inside $V$. Hence, the contribution from the boundary states the general solution of the **homogeneous** Helmholtz equation fulfilling the inhomogeneous boundary conditions\n",
    "\n",
    "$$\n",
    "P(\\mathbf{x},\\omega) =\n",
    "\\oint_{\\partial V}\\biggl[P(\\mathbf{x}_0, \\omega)\\,\\frac{\\partial G(\\mathbf{x}-\\mathbf{x}_0, \\omega)}{\\partial \\mathbf n(\\mathbf{x}_0)}-G(\\mathbf{x}-\\mathbf{x}_0, \\omega)\n",
    "\\,\\frac{\\partial P(\\mathbf{x}_0, \\omega)}{\\partial \\mathbf n(\\mathbf{x}_0)}\\biggr]\\,\\mathrm{d}A(\\mathbf{x}_0)\n",
    "$$\n",
    "for $\\mathbf{x} \\in V$. This equation is also known as the **Kirchhoff-Helmholtz integral** or the **Helmholtz integral equation**\n",
    "\n",
    "*Exercise*: What type of sound field does $\\displaystyle \\frac{\\partial G(\\mathbf{x}-\\mathbf{x}_0, \\omega)}{\\partial \\mathbf n(\\mathbf{x}_0)}$ represent under free-field conditions in 3D?"
   ]
  },
  {
   "cell_type": "markdown",
   "metadata": {},
   "source": []
  },
  {
   "cell_type": "markdown",
   "metadata": {},
   "source": [
    "Let's try out this integral for a point source positioned outside $V$"
   ]
  },
  {
   "cell_type": "code",
   "execution_count": null,
   "metadata": {
    "collapsed": false,
    "scrolled": true
   },
   "outputs": [],
   "source": [
    "xs = 0,2,0  # position (metre)\n",
    "f = 1000  # time-frequency (Hz)\n",
    "omega = 2 * np.pi * f  # angular frequency (rad/s)\n",
    "\n",
    "x0, n0, a0 = sfs.array.circular(100, 1)  # point and surface normals on a circular boundary\n",
    "x0_grid = np.array([x0[:,0],x0[:,1],x0[:,2]])  # convert to grid\n",
    "\n",
    "# sound pressure at boundary (x0)\n",
    "p = sfs.mono.source.point(omega, xs, None, x0_grid)  \n",
    "\n",
    "# directional gradient (\"pressure gradient along n0\")\n",
    "v = sfs.mono.source.point_velocity(omega, xs, None, x0_grid)*(-1j)*sfs.defs.rho0*omega  # pressure gradient at boundary\n",
    "vx, vy, vz = sfs.util.as_xyz_components(v)  # split gradient into components for x,y,z\n",
    "v_n0 = vx*n0[:,0] + vy*n0[:,1] + vz*n0[:,2]  # dot product of pressure gradient and boundary normal n0\n",
    "\n",
    "# single layer potential (sound field generate by secondary monopole source)\n",
    "p_single = sfs.mono.synthesized.generic(omega, x0, n0, -v_n0 * a0 , grid, source=sfs.mono.source.point)\n",
    "# double layer potential (sound field generated by secondary dipole source)\n",
    "p_double = sfs.mono.synthesized.generic(omega, x0, n0, p * a0 , grid, source=sfs.mono.source.point_dipole)\n",
    "\n",
    "sfs.plot.soundfield(4*np.pi*(p_single + p_double), grid);\n",
    "sfs.plot.loudspeaker_2d(x0,n0)"
   ]
  },
  {
   "cell_type": "markdown",
   "metadata": {},
   "source": [
    "*Exercise*: What happens, if you put the point source inside the circle?"
   ]
  },
  {
   "cell_type": "code",
   "execution_count": null,
   "metadata": {
    "collapsed": false,
    "scrolled": true
   },
   "outputs": [],
   "source": []
  },
  {
   "cell_type": "markdown",
   "metadata": {},
   "source": [
    "*Exercise*: Can you explain the obversation from above? Hind: Is the volume $V$ free of inhomogenities?"
   ]
  },
  {
   "cell_type": "markdown",
   "metadata": {},
   "source": []
  },
  {
   "cell_type": "markdown",
   "metadata": {},
   "source": [
    "## Solutions\n",
    "\n",
    "If you had problems solving some of the exercises, don't despair!\n",
    "Have a look at the [example solutions](physics_of_sound_II-solutions.ipynb)."
   ]
  },
  {
   "cell_type": "markdown",
   "metadata": {},
   "source": [
    "<p xmlns:dct=\"http://purl.org/dc/terms/\">\n",
    "  <a rel=\"license\"\n",
    "     href=\"http://creativecommons.org/publicdomain/zero/1.0/\">\n",
    "    <img src=\"http://i.creativecommons.org/p/zero/1.0/88x31.png\" style=\"border-style: none;\" alt=\"CC0\" />\n",
    "  </a>\n",
    "  <br />\n",
    "  To the extent possible under law,\n",
    "  <span rel=\"dct:publisher\" resource=\"[_:publisher]\">the person who associated CC0</span>\n",
    "  with this work has waived all copyright and related or neighboring\n",
    "  rights to this work.\n",
    "</p>"
   ]
  }
 ],
 "metadata": {
  "kernelspec": {
   "display_name": "Python 3",
   "language": "python",
   "name": "python3"
  },
  "language_info": {
   "codemirror_mode": {
    "name": "ipython",
    "version": 3
   },
   "file_extension": ".py",
   "mimetype": "text/x-python",
   "name": "python",
   "nbconvert_exporter": "python",
   "pygments_lexer": "ipython3",
   "version": "3.5.2"
  }
 },
 "nbformat": 4,
 "nbformat_minor": 1
}
